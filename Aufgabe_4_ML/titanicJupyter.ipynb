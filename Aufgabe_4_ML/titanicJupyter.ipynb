{
 "cells": [
  {
   "cell_type": "code",
   "execution_count": 661,
   "metadata": {
    "collapsed": true,
    "pycharm": {
     "name": "#%%\n"
    }
   },
   "outputs": [],
   "source": [
    "\n",
    "# Hinweise zum Einlesen\n",
    "import keras\n",
    "import matplotlib.pyplot as plt\n",
    "plt.style.use('default')\n",
    "import pandas as pd # data processing, CSV file I/O (e.g. pd.read_csv)\n",
    "import seaborn as sns\n",
    "\n",
    "\n",
    "from sklearn.model_selection import train_test_split\n",
    "\n",
    "train_val = pd.read_csv('titanic_data/train.csv')\n",
    "test_data = pd.read_csv('titanic_data/test.csv')\n"
   ]
  },
  {
   "cell_type": "code",
   "execution_count": 662,
   "outputs": [
    {
     "data": {
      "text/plain": "Survived    0    1\nPclass            \n1          68  107\n2          75   72\n3         291   99",
      "text/html": "<div>\n<style scoped>\n    .dataframe tbody tr th:only-of-type {\n        vertical-align: middle;\n    }\n\n    .dataframe tbody tr th {\n        vertical-align: top;\n    }\n\n    .dataframe thead th {\n        text-align: right;\n    }\n</style>\n<table border=\"1\" class=\"dataframe\">\n  <thead>\n    <tr style=\"text-align: right;\">\n      <th>Survived</th>\n      <th>0</th>\n      <th>1</th>\n    </tr>\n    <tr>\n      <th>Pclass</th>\n      <th></th>\n      <th></th>\n    </tr>\n  </thead>\n  <tbody>\n    <tr>\n      <th>1</th>\n      <td>68</td>\n      <td>107</td>\n    </tr>\n    <tr>\n      <th>2</th>\n      <td>75</td>\n      <td>72</td>\n    </tr>\n    <tr>\n      <th>3</th>\n      <td>291</td>\n      <td>99</td>\n    </tr>\n  </tbody>\n</table>\n</div>"
     },
     "execution_count": 662,
     "metadata": {},
     "output_type": "execute_result"
    }
   ],
   "source": [
    "length = int(len(train_val) * 0.8)\n",
    "train_dataset = train_val[:length]\n",
    "validation_dataset = train_val[length:]\n",
    "\n",
    "train_dataset.head(5)\n",
    "pd.crosstab(train_dataset['Pclass'], train_dataset['Survived'])"
   ],
   "metadata": {
    "collapsed": false,
    "pycharm": {
     "name": "#%%\n"
    }
   }
  },
  {
   "cell_type": "code",
   "execution_count": 663,
   "outputs": [
    {
     "data": {
      "text/plain": "<Figure size 640x480 with 1 Axes>",
      "image/png": "[encoded data removed]"
     },
     "metadata": {},
     "output_type": "display_data"
    }
   ],
   "source": [
    "sns.set_style('whitegrid')\n",
    "sns.countplot(x='Survived',data=train_dataset,palette='RdBu_r');"
   ],
   "metadata": {
    "collapsed": false,
    "pycharm": {
     "name": "#%%\n"
    }
   }
  },
  {
   "cell_type": "code",
   "execution_count": 664,
   "outputs": [
    {
     "name": "stdout",
     "output_type": "stream",
     "text": [
      "\n",
      "--------Trainings DataSet 80%---------\n",
      "\n",
      "\n",
      "Pclass  Survived\n",
      "1       1           107\n",
      "        0            68\n",
      "2       0            75\n",
      "        1            72\n",
      "3       0           291\n",
      "        1            99\n",
      "Name: Survived, dtype: int64\n",
      "\n",
      "   Pclass  Survived\n",
      "0       1  0.611429\n",
      "1       2  0.489796\n",
      "2       3  0.253846\n",
      "accuracy Train Data:  0.6643258426966292\n"
     ]
    }
   ],
   "source": [
    "print('\\n--------Trainings DataSet 80%---------\\n')\n",
    "survived_value_counts = train_dataset.groupby('Pclass').Survived.value_counts()\n",
    "survived_percentage = train_dataset[['Pclass', 'Survived']].groupby(['Pclass'], as_index=False).mean()\n",
    "\n",
    "print()\n",
    "print(survived_value_counts)\n",
    "print()\n",
    "print(survived_percentage)\n",
    "\n",
    "print('accuracy Train Data: ', sum(survived_value_counts.to_list()[::2])/ sum(survived_value_counts.to_list()))"
   ],
   "metadata": {
    "collapsed": false,
    "pycharm": {
     "name": "#%%\n"
    }
   }
  },
  {
   "cell_type": "code",
   "execution_count": 665,
   "outputs": [
    {
     "data": {
      "text/plain": "<Figure size 640x480 with 1 Axes>",
      "image/png": "[encoded data removed]"
     },
     "metadata": {},
     "output_type": "display_data"
    }
   ],
   "source": [
    "sns.set_style('whitegrid')\n",
    "sns.countplot(x='Survived',hue='Pclass',data=train_dataset,palette='winter');\n"
   ],
   "metadata": {
    "collapsed": false,
    "pycharm": {
     "name": "#%%\n"
    }
   }
  },
  {
   "cell_type": "code",
   "execution_count": 666,
   "outputs": [
    {
     "name": "stdout",
     "output_type": "stream",
     "text": [
      "\n",
      "--------Validation DataSet 20%---------\n",
      "\n",
      "Pclass  Survived\n",
      "1       1           29\n",
      "        0           12\n",
      "2       0           22\n",
      "        1           15\n",
      "3       0           81\n",
      "        1           20\n",
      "Name: Survived, dtype: int64\n",
      "   Pclass  Survived\n",
      "0       1  0.707317\n",
      "1       2  0.405405\n",
      "2       3  0.198020\n"
     ]
    }
   ],
   "source": [
    "val_survived_value_counts = validation_dataset.groupby('Pclass').Survived.value_counts()\n",
    "val_survived_percentage = validation_dataset[['Pclass', 'Survived']].groupby(['Pclass'], as_index=False).mean()\n",
    "\n",
    "\n",
    "print('\\n--------Validation DataSet 20%---------\\n')\n",
    "print(val_survived_value_counts)\n",
    "print(val_survived_percentage)"
   ],
   "metadata": {
    "collapsed": false,
    "pycharm": {
     "name": "#%%\n"
    }
   }
  },
  {
   "cell_type": "code",
   "execution_count": 667,
   "outputs": [
    {
     "name": "stdout",
     "output_type": "stream",
     "text": [
      "\n",
      "---survived male female---\n",
      "\n",
      "Sex       female  male\n",
      "Survived              \n",
      "0             66   368\n",
      "1            190    88\n",
      "\n",
      "accuracy Validation Data:  0.7374301675977654\n"
     ]
    }
   ],
   "source": [
    "print('\\n---survived male female---\\n')\n",
    "\n",
    "print(pd.pivot_table(train_dataset, index = 'Survived', columns = 'Sex', values = 'Ticket' ,aggfunc ='count'))\n",
    "print()\n",
    "\n",
    "print('accuracy Validation Data: ', sum(val_survived_value_counts.to_list()[::2])/ sum(val_survived_value_counts.to_list()))"
   ],
   "metadata": {
    "collapsed": false,
    "pycharm": {
     "name": "#%%\n"
    }
   }
  },
  {
   "cell_type": "code",
   "execution_count": 668,
   "outputs": [
    {
     "data": {
      "text/plain": "<AxesSubplot:xlabel='Survived', ylabel='count'>"
     },
     "execution_count": 668,
     "metadata": {},
     "output_type": "execute_result"
    },
    {
     "data": {
      "text/plain": "<Figure size 640x480 with 1 Axes>",
      "image/png": "[encoded data removed]"
     },
     "metadata": {},
     "output_type": "display_data"
    }
   ],
   "source": [
    "sns.set_style('darkgrid')\n",
    "sns.countplot(x='Survived',hue='Sex',data=train_dataset,palette='ocean')\n"
   ],
   "metadata": {
    "collapsed": false,
    "pycharm": {
     "name": "#%%\n"
    }
   }
  },
  {
   "cell_type": "code",
   "execution_count": 669,
   "outputs": [
    {
     "name": "stdout",
     "output_type": "stream",
     "text": [
      "% of women who survived: 0.7421875\n"
     ]
    }
   ],
   "source": [
    "women = train_dataset.loc[train_dataset.Sex == 'female'][\"Survived\"]\n",
    "rate_women = sum(women)/len(women)\n",
    "print(\"% of women who survived:\", rate_women)"
   ],
   "metadata": {
    "collapsed": false,
    "pycharm": {
     "name": "#%%\n"
    }
   }
  },
  {
   "cell_type": "code",
   "execution_count": 670,
   "outputs": [
    {
     "name": "stdout",
     "output_type": "stream",
     "text": [
      "% of men who survived: 0.19298245614035087\n"
     ]
    }
   ],
   "source": [
    "men = train_dataset.loc[train_dataset.Sex == 'male'][\"Survived\"]\n",
    "rate_men = sum(men)/len(men)\n",
    "\n",
    "print(\"% of men who survived:\", rate_men)\n"
   ],
   "metadata": {
    "collapsed": false,
    "pycharm": {
     "name": "#%%\n"
    }
   }
  },
  {
   "cell_type": "code",
   "execution_count": 671,
   "outputs": [
    {
     "name": "stderr",
     "output_type": "stream",
     "text": [
      "c:\\users\\akkarin\\documents\\06_semester\\ai\\aufgabe_4_ml\\venv\\lib\\site-packages\\seaborn\\distributions.py:2557: FutureWarning: `distplot` is a deprecated function and will be removed in a future version. Please adapt your code to use either `displot` (a figure-level function with similar flexibility) or `histplot` (an axes-level function for histograms).\n",
      "  warnings.warn(msg, FutureWarning)\n"
     ]
    },
    {
     "data": {
      "text/plain": "<AxesSubplot:xlabel='Age'>"
     },
     "execution_count": 671,
     "metadata": {},
     "output_type": "execute_result"
    },
    {
     "data": {
      "text/plain": "<Figure size 640x480 with 1 Axes>",
      "image/png": "[encoded data removed]"
     },
     "metadata": {},
     "output_type": "display_data"
    }
   ],
   "source": [
    "sns.distplot(train_dataset['Age'].dropna(),kde=False,color='darkred',bins=20)"
   ],
   "metadata": {
    "collapsed": false,
    "pycharm": {
     "name": "#%%\n"
    }
   }
  },
  {
   "cell_type": "code",
   "execution_count": 672,
   "outputs": [
    {
     "name": "stderr",
     "output_type": "stream",
     "text": [
      "c:\\users\\akkarin\\documents\\06_semester\\ai\\aufgabe_4_ml\\venv\\lib\\site-packages\\pandas\\core\\series.py:4463: SettingWithCopyWarning: \n",
      "A value is trying to be set on a copy of a slice from a DataFrame\n",
      "\n",
      "See the caveats in the documentation: https://pandas.pydata.org/pandas-docs/stable/user_guide/indexing.html#returning-a-view-versus-a-copy\n",
      "  return super().fillna(\n",
      "c:\\users\\akkarin\\documents\\06_semester\\ai\\aufgabe_4_ml\\venv\\lib\\site-packages\\pandas\\core\\series.py:4463: SettingWithCopyWarning: \n",
      "A value is trying to be set on a copy of a slice from a DataFrame\n",
      "\n",
      "See the caveats in the documentation: https://pandas.pydata.org/pandas-docs/stable/user_guide/indexing.html#returning-a-view-versus-a-copy\n",
      "  return super().fillna(\n"
     ]
    },
    {
     "data": {
      "text/plain": "PassengerId      0\nSurvived         0\nPclass           0\nName             0\nSex              0\nAge              0\nSibSp            0\nParch            0\nTicket           0\nFare             0\nCabin          550\nEmbarked         1\ndtype: int64"
     },
     "execution_count": 672,
     "metadata": {},
     "output_type": "execute_result"
    }
   ],
   "source": [
    "validation_dataset[\"Age\"].fillna(train_dataset[\"Age\"].median(skipna=True), inplace=True)\n",
    "train_dataset[\"Age\"].fillna(train_dataset[\"Age\"].median(skipna=True), inplace=True)\n",
    "\n",
    "train_dataset.isnull().sum()"
   ],
   "metadata": {
    "collapsed": false,
    "pycharm": {
     "name": "#%%\n"
    }
   }
  },
  {
   "cell_type": "code",
   "execution_count": 673,
   "outputs": [
    {
     "name": "stdout",
     "output_type": "stream",
     "text": [
      "     Pclass   Age  Sex_female  Sex_male\n",
      "0         3  22.0           0         1\n",
      "1         1  38.0           1         0\n",
      "2         3  26.0           1         0\n",
      "3         1  35.0           1         0\n",
      "4         3  35.0           0         1\n",
      "..      ...   ...         ...       ...\n",
      "707       1  42.0           0         1\n",
      "708       1  22.0           1         0\n",
      "709       3  28.0           0         1\n",
      "710       1  24.0           1         0\n",
      "711       1  28.0           0         1\n",
      "\n",
      "[712 rows x 4 columns]\n"
     ]
    }
   ],
   "source": [
    "from sklearn.ensemble import RandomForestClassifier\n",
    "from sklearn.linear_model import LogisticRegression\n",
    "\n",
    "\n",
    "y = train_dataset[\"Survived\"]\n",
    "\n",
    "features = [\"Pclass\", \"Sex\", \"Age\"]\n",
    "X = pd.get_dummies(train_dataset[features])\n",
    "X_test = pd.get_dummies(train_dataset[features])\n",
    "print(X_test)\n",
    "model = RandomForestClassifier(n_estimators=100, max_depth=5, random_state=1)\n",
    "# model = LogisticRegression()\n",
    "\n",
    "model.fit(X, y)\n",
    "predictions = model.predict(X_test)"
   ],
   "metadata": {
    "collapsed": false,
    "pycharm": {
     "name": "#%%\n"
    }
   }
  },
  {
   "cell_type": "code",
   "execution_count": 674,
   "outputs": [
    {
     "name": "stdout",
     "output_type": "stream",
     "text": [
      "              precision    recall  f1-score   support\n",
      "\n",
      "           0       0.84      0.93      0.88       434\n",
      "           1       0.86      0.72      0.78       278\n",
      "\n",
      "    accuracy                           0.84       712\n",
      "   macro avg       0.85      0.82      0.83       712\n",
      "weighted avg       0.85      0.84      0.84       712\n",
      "\n",
      "accuracy logistische Regression 84.41011235955057\n"
     ]
    }
   ],
   "source": [
    "\n",
    "from sklearn.metrics import classification_report,confusion_matrix,accuracy_score\n",
    "\n",
    "\n",
    "print(classification_report(y,predictions))\n",
    "\n",
    "\n",
    "print('accuracy logistische Regression', accuracy_score(y,predictions)*100)\n",
    "\n",
    "\n"
   ],
   "metadata": {
    "collapsed": false,
    "pycharm": {
     "name": "#%%\n"
    }
   }
  },
  {
   "cell_type": "code",
   "execution_count": 675,
   "outputs": [
    {
     "name": "stdout",
     "output_type": "stream",
     "text": [
      "Your submission was successfully saved!\n"
     ]
    }
   ],
   "source": [
    "output = pd.DataFrame({'PassengerId': train_dataset.PassengerId, 'Survived': predictions})\n",
    "output.to_csv('my_submission.csv', index=False)\n",
    "print(\"Your submission was successfully saved!\")\n",
    "\n",
    "\n",
    "\n"
   ],
   "metadata": {
    "collapsed": false,
    "pycharm": {
     "name": "#%%\n"
    }
   }
  },
  {
   "cell_type": "code",
   "execution_count": 676,
   "outputs": [
    {
     "name": "stdout",
     "output_type": "stream",
     "text": [
      "Model: \"sequential_10\"\n",
      "_________________________________________________________________\n",
      "Layer (type)                 Output Shape              Param #   \n",
      "=================================================================\n",
      "dense_20 (Dense)             (None, 10)                50        \n",
      "_________________________________________________________________\n",
      "dense_21 (Dense)             (None, 1)                 11        \n",
      "=================================================================\n",
      "Total params: 61\n",
      "Trainable params: 61\n",
      "Non-trainable params: 0\n",
      "_________________________________________________________________\n"
     ]
    }
   ],
   "source": [
    "#Sie können von folgendem Code starten um das Netzwerk zu definieren, füllen Sie die ...\n",
    "from keras import Sequential\n",
    "import tensorflow as tf\n",
    "from tensorflow.keras.models import Sequential\n",
    "from tensorflow.keras.layers import Dense\n",
    "model = Sequential()\n",
    "model.add(Dense(10, activation='sigmoid', batch_input_shape=(None, 4))) #We have 4 input features\n",
    "#...\n",
    "model.add(Dense(1, activation='sigmoid'))\n",
    "opt = tf.keras.optimizers.Adam(learning_rate=1e-3)\n",
    "model.compile(loss=tf.keras.losses.BinaryCrossentropy(),\n",
    "              optimizer=opt,\n",
    "              metrics=['accuracy'])\n",
    "\n",
    "model.summary()"
   ],
   "metadata": {
    "collapsed": false,
    "pycharm": {
     "name": "#%%\n"
    }
   }
  },
  {
   "cell_type": "code",
   "execution_count": 677,
   "outputs": [],
   "source": [
    "features = [\"Pclass\", \"Sex\", \"Age\"]\n",
    "X_val = pd.get_dummies(validation_dataset[features])\n",
    "Y_val = validation_dataset[\"Survived\"]"
   ],
   "metadata": {
    "collapsed": false,
    "pycharm": {
     "name": "#%%\n"
    }
   }
  },
  {
   "cell_type": "code",
   "execution_count": 678,
   "outputs": [
    {
     "name": "stdout",
     "output_type": "stream",
     "text": [
      "Epoch 1/50\n",
      "178/178 - 1s - loss: 0.8501 - accuracy: 0.3876 - val_loss: 0.6871 - val_accuracy: 0.7430\n",
      "Epoch 2/50\n",
      "178/178 - 0s - loss: 0.6538 - accuracy: 0.6180 - val_loss: 0.6368 - val_accuracy: 0.6592\n",
      "Epoch 3/50\n",
      "178/178 - 0s - loss: 0.6334 - accuracy: 0.6517 - val_loss: 0.6147 - val_accuracy: 0.6704\n",
      "Epoch 4/50\n",
      "178/178 - 0s - loss: 0.6140 - accuracy: 0.6826 - val_loss: 0.6003 - val_accuracy: 0.7989\n",
      "Epoch 5/50\n",
      "178/178 - 0s - loss: 0.5977 - accuracy: 0.7528 - val_loss: 0.5755 - val_accuracy: 0.7989\n",
      "Epoch 6/50\n",
      "178/178 - 0s - loss: 0.5818 - accuracy: 0.7781 - val_loss: 0.5576 - val_accuracy: 0.7989\n",
      "Epoch 7/50\n",
      "178/178 - 0s - loss: 0.5663 - accuracy: 0.7795 - val_loss: 0.5426 - val_accuracy: 0.7989\n",
      "Epoch 8/50\n",
      "178/178 - 0s - loss: 0.5540 - accuracy: 0.7795 - val_loss: 0.5287 - val_accuracy: 0.7989\n",
      "Epoch 9/50\n",
      "178/178 - 0s - loss: 0.5430 - accuracy: 0.7837 - val_loss: 0.5148 - val_accuracy: 0.7989\n",
      "Epoch 10/50\n",
      "178/178 - 0s - loss: 0.5341 - accuracy: 0.7865 - val_loss: 0.5080 - val_accuracy: 0.7989\n",
      "Epoch 11/50\n",
      "178/178 - 0s - loss: 0.5262 - accuracy: 0.7837 - val_loss: 0.4962 - val_accuracy: 0.7989\n",
      "Epoch 12/50\n",
      "178/178 - 0s - loss: 0.5206 - accuracy: 0.7837 - val_loss: 0.4911 - val_accuracy: 0.7989\n",
      "Epoch 13/50\n",
      "178/178 - 0s - loss: 0.5136 - accuracy: 0.7837 - val_loss: 0.4867 - val_accuracy: 0.7989\n",
      "Epoch 14/50\n",
      "178/178 - 0s - loss: 0.5101 - accuracy: 0.7837 - val_loss: 0.4769 - val_accuracy: 0.7989\n",
      "Epoch 15/50\n",
      "178/178 - 0s - loss: 0.5066 - accuracy: 0.7837 - val_loss: 0.4730 - val_accuracy: 0.7989\n",
      "Epoch 16/50\n",
      "178/178 - 0s - loss: 0.5001 - accuracy: 0.7837 - val_loss: 0.4678 - val_accuracy: 0.7989\n",
      "Epoch 17/50\n",
      "178/178 - 0s - loss: 0.5011 - accuracy: 0.7837 - val_loss: 0.4644 - val_accuracy: 0.7989\n",
      "Epoch 18/50\n",
      "178/178 - 0s - loss: 0.4957 - accuracy: 0.7837 - val_loss: 0.4650 - val_accuracy: 0.7989\n",
      "Epoch 19/50\n",
      "178/178 - 0s - loss: 0.4944 - accuracy: 0.7837 - val_loss: 0.4580 - val_accuracy: 0.7989\n",
      "Epoch 20/50\n",
      "178/178 - 0s - loss: 0.4918 - accuracy: 0.7837 - val_loss: 0.4540 - val_accuracy: 0.7989\n",
      "Epoch 21/50\n",
      "178/178 - 0s - loss: 0.4914 - accuracy: 0.7837 - val_loss: 0.4537 - val_accuracy: 0.7989\n",
      "Epoch 22/50\n",
      "178/178 - 0s - loss: 0.4885 - accuracy: 0.7837 - val_loss: 0.4475 - val_accuracy: 0.7989\n",
      "Epoch 23/50\n",
      "178/178 - 0s - loss: 0.4860 - accuracy: 0.7837 - val_loss: 0.4444 - val_accuracy: 0.7989\n",
      "Epoch 24/50\n",
      "178/178 - 0s - loss: 0.4849 - accuracy: 0.7837 - val_loss: 0.4429 - val_accuracy: 0.7989\n",
      "Epoch 25/50\n",
      "178/178 - 0s - loss: 0.4831 - accuracy: 0.7837 - val_loss: 0.4392 - val_accuracy: 0.7989\n",
      "Epoch 26/50\n",
      "178/178 - 0s - loss: 0.4807 - accuracy: 0.7837 - val_loss: 0.4414 - val_accuracy: 0.7989\n",
      "Epoch 27/50\n",
      "178/178 - 0s - loss: 0.4799 - accuracy: 0.7837 - val_loss: 0.4383 - val_accuracy: 0.7989\n",
      "Epoch 28/50\n",
      "178/178 - 0s - loss: 0.4782 - accuracy: 0.7837 - val_loss: 0.4355 - val_accuracy: 0.7989\n",
      "Epoch 29/50\n",
      "178/178 - 0s - loss: 0.4776 - accuracy: 0.7837 - val_loss: 0.4348 - val_accuracy: 0.7989\n",
      "Epoch 30/50\n",
      "178/178 - 0s - loss: 0.4728 - accuracy: 0.7851 - val_loss: 0.4314 - val_accuracy: 0.8324\n",
      "Epoch 31/50\n",
      "178/178 - 0s - loss: 0.4759 - accuracy: 0.7795 - val_loss: 0.4358 - val_accuracy: 0.7989\n",
      "Epoch 32/50\n",
      "178/178 - 0s - loss: 0.4742 - accuracy: 0.7837 - val_loss: 0.4303 - val_accuracy: 0.7989\n",
      "Epoch 33/50\n",
      "178/178 - 0s - loss: 0.4733 - accuracy: 0.7837 - val_loss: 0.4268 - val_accuracy: 0.7989\n",
      "Epoch 34/50\n",
      "178/178 - 0s - loss: 0.4713 - accuracy: 0.7837 - val_loss: 0.4254 - val_accuracy: 0.7989\n",
      "Epoch 35/50\n",
      "178/178 - 0s - loss: 0.4701 - accuracy: 0.7837 - val_loss: 0.4207 - val_accuracy: 0.7989\n",
      "Epoch 36/50\n",
      "178/178 - 0s - loss: 0.4695 - accuracy: 0.7837 - val_loss: 0.4191 - val_accuracy: 0.7989\n",
      "Epoch 37/50\n",
      "178/178 - 0s - loss: 0.4703 - accuracy: 0.7809 - val_loss: 0.4185 - val_accuracy: 0.7989\n",
      "Epoch 38/50\n",
      "178/178 - 0s - loss: 0.4689 - accuracy: 0.7837 - val_loss: 0.4188 - val_accuracy: 0.7989\n",
      "Epoch 39/50\n",
      "178/178 - 0s - loss: 0.4664 - accuracy: 0.7837 - val_loss: 0.4154 - val_accuracy: 0.7989\n",
      "Epoch 40/50\n",
      "178/178 - 0s - loss: 0.4659 - accuracy: 0.7837 - val_loss: 0.4154 - val_accuracy: 0.7989\n",
      "Epoch 41/50\n",
      "178/178 - 0s - loss: 0.4650 - accuracy: 0.7837 - val_loss: 0.4112 - val_accuracy: 0.7989\n",
      "Epoch 42/50\n",
      "178/178 - 0s - loss: 0.4652 - accuracy: 0.7837 - val_loss: 0.4111 - val_accuracy: 0.7989\n",
      "Epoch 43/50\n",
      "178/178 - 0s - loss: 0.4629 - accuracy: 0.7837 - val_loss: 0.4094 - val_accuracy: 0.7989\n",
      "Epoch 44/50\n",
      "178/178 - 0s - loss: 0.4644 - accuracy: 0.7851 - val_loss: 0.4087 - val_accuracy: 0.7989\n",
      "Epoch 45/50\n",
      "178/178 - 0s - loss: 0.4620 - accuracy: 0.7851 - val_loss: 0.4130 - val_accuracy: 0.7989\n",
      "Epoch 46/50\n",
      "178/178 - 0s - loss: 0.4632 - accuracy: 0.7851 - val_loss: 0.4085 - val_accuracy: 0.7989\n",
      "Epoch 47/50\n",
      "178/178 - 0s - loss: 0.4617 - accuracy: 0.7851 - val_loss: 0.4051 - val_accuracy: 0.7989\n",
      "Epoch 48/50\n",
      "178/178 - 0s - loss: 0.4601 - accuracy: 0.7851 - val_loss: 0.4128 - val_accuracy: 0.7989\n",
      "Epoch 49/50\n",
      "178/178 - 0s - loss: 0.4608 - accuracy: 0.7823 - val_loss: 0.4105 - val_accuracy: 0.7989\n",
      "Epoch 50/50\n",
      "178/178 - 0s - loss: 0.4586 - accuracy: 0.7823 - val_loss: 0.4020 - val_accuracy: 0.7989\n"
     ]
    },
    {
     "data": {
      "text/plain": "<Figure size 640x480 with 1 Axes>",
      "image/png": "[encoded data removed]"
     },
     "metadata": {},
     "output_type": "display_data"
    },
    {
     "data": {
      "text/plain": "<Figure size 640x480 with 1 Axes>",
      "image/png": "[encoded data removed]"
     },
     "metadata": {},
     "output_type": "display_data"
    }
   ],
   "source": [
    "history= model.fit(X,y, batch_size=4, epochs=50, verbose=2, validation_data=(X_val,Y_val))\n",
    "plt.plot(history.history['accuracy'])\n",
    "plt.plot(history.history['val_accuracy'])\n",
    "plt.title('model accuracy')\n",
    "plt.ylabel('accuracy')\n",
    "plt.xlabel('epoch')\n",
    "plt.legend(['train', 'test'], loc='upper left')\n",
    "plt.show()\n",
    "\n",
    "plt.plot(history.history['loss'])\n",
    "plt.plot(history.history['val_loss'])\n",
    "plt.title('model loss')\n",
    "plt.ylabel('loss')\n",
    "plt.xlabel('epoch')\n",
    "plt.legend(['train', 'test'], loc='upper left')\n",
    "plt.show()"
   ],
   "metadata": {
    "collapsed": false,
    "pycharm": {
     "name": "#%%\n"
    }
   }
  },
  {
   "cell_type": "code",
   "execution_count": 678,
   "outputs": [],
   "source": [],
   "metadata": {
    "collapsed": false,
    "pycharm": {
     "name": "#%%\n"
    }
   }
  }
 ],
 "metadata": {
  "kernelspec": {
   "display_name": "Python 3",
   "language": "python",
   "name": "python3"
  },
  "language_info": {
   "codemirror_mode": {
    "name": "ipython",
    "version": 2
   },
   "file_extension": ".py",
   "mimetype": "text/x-python",
   "name": "python",
   "nbconvert_exporter": "python",
   "pygments_lexer": "ipython2",
   "version": "2.7.6"
  }
 },
 "nbformat": 4,
 "nbformat_minor": 0
}